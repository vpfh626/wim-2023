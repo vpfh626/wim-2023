{
 "cells": [
  {
   "cell_type": "markdown",
   "metadata": {},
   "source": [
    "# WIM Workshop: API-Webscraping with Python\n",
    "\n",
    "* Date: Nov 3, 2023\n",
    "* Instructor: Eehyun Kim (eehkim@iu.edu), Anne Kavalerchik (akavaler@iu.edu)"
   ]
  },
  {
   "cell_type": "markdown",
   "metadata": {},
   "source": [
    "## Workflow\n",
    "1. Read API documentation - Check the API limit\n",
    "2. Import packages\n",
    "3. Build get request\n",
    "4. Send get request – check server response\n",
    "<br><font color=green>200 – OK</font>\n",
    "<br><font color=orange>404 – data not found</font>\n",
    "<br><font color=red>401 – unauthorized</font>\n",
    "<br><font color=red>429 – too many requests</font>\n",
    "5. Explore data structures\n",
    "<br> lists, dictionaries\n",
    "6. Save data\n",
    "<br> e.g. csv"
   ]
  },
  {
   "cell_type": "markdown",
   "metadata": {},
   "source": [
    "#### 1. read API documentation\n",
    "https://www.propublica.org/datastore/api/propublica-congress-api  <br>\n",
    "\"Usage is limited to 5000 requests per day (rate limits are subject to change).\"\n",
    "\n",
    "see above for: <br>\n",
    "2. import packages <br>\n",
    "3. authentication key"
   ]
  },
  {
   "cell_type": "markdown",
   "metadata": {},
   "source": [
    "* [Request a key from ProPublica here](https://www.propublica.org/datastore/api/propublica-congress-api)\n",
    "    * I saved my API key in a .txt document\n",
    "    * do not share your API key with anyone (i.e., treat it like a password)"
   ]
  },
  {
   "cell_type": "markdown",
   "metadata": {},
   "source": [
    "### 2. Import packages\n",
    "\n",
    "#### What you need:\n",
    "* Python\n",
    "    * required: `requests`, `json`\n",
    "    * optional: `pandas`, `pickle`"
   ]
  },
  {
   "cell_type": "code",
   "execution_count": null,
   "metadata": {},
   "outputs": [],
   "source": [
    "# packages you need to install\n",
    "import requests\n",
    "import json\n",
    "\n",
    "import pandas as pd\n",
    "\n",
    "# packages that come with Python\n",
    "from time import sleep\n",
    "import pickle\n",
    "from pprint import pprint"
   ]
  },
  {
   "cell_type": "code",
   "execution_count": null,
   "metadata": {},
   "outputs": [],
   "source": [
    "credentials = {'X-API-Key':'kjfneawlfunwaedklmalkmdwql;kdmwelkcm'}  # <- not my real API key (I just slammed my keyboard)"
   ]
  },
  {
   "cell_type": "markdown",
   "metadata": {},
   "source": [
    "## 3. Build get request"
   ]
  },
  {
   "cell_type": "markdown",
   "metadata": {},
   "source": [
    "[Return to the documentation here for specifically working with the `members` data set](https://projects.propublica.org/api-docs/congress-api/members/).\n",
    "\n",
    "This tells us that the structure of a request should look like:\n",
    "\n",
    "`GET https://api.propublica.org/congress/v1/{congress}/{chamber}/members.json`"
   ]
  },
  {
   "cell_type": "markdown",
   "metadata": {},
   "source": [
    "Using version 1 (v1) of the API, since that is the only one available. We are requesting the __117th__ (current) Congress, and specifically the __House__"
   ]
  },
  {
   "cell_type": "code",
   "execution_count": null,
   "metadata": {},
   "outputs": [],
   "source": [
    "base = \"https://api.propublica.org/congress/v1/\"\n",
    "congress_num = \"/117\"\n",
    "chamber = \"/house\"\n",
    "data_section = \"/members.json\"\n",
    "print(host + chamber + data_section)"
   ]
  },
  {
   "cell_type": "markdown",
   "metadata": {},
   "source": [
    "We can also write a request like this - this can be more readable and flexible. Note the `{}`"
   ]
  },
  {
   "cell_type": "code",
   "execution_count": null,
   "metadata": {},
   "outputs": [],
   "source": [
    "request_url = \"https://api.propublica.org/congress/v1/{congress}/{chamber}/members.json\"\n",
    "request_url.format(congress='117', chamber='house')"
   ]
  },
  {
   "cell_type": "markdown",
   "metadata": {},
   "source": [
    "If we click that link, we get an \"Unauthorized message\" because we haven't verified our authorization through our API key. We will send that in the next step.\n",
    "\n",
    "If we tried to use `requests.get()` on that, we would get a <font color=red>401</font> response. We need to pass our api key in the \"header\""
   ]
  },
  {
   "cell_type": "code",
   "execution_count": null,
   "metadata": {},
   "outputs": [],
   "source": [
    "print(request_url.format(congress='117', chamber='house'))\n",
    "requests.get(request_url.format(congress='117', chamber='house'))"
   ]
  },
  {
   "cell_type": "markdown",
   "metadata": {},
   "source": [
    "## 4. Send `get` request (with headers) – check server response"
   ]
  },
  {
   "cell_type": "code",
   "execution_count": null,
   "metadata": {},
   "outputs": [],
   "source": [
    "response = requests.get(request_url.format(congress='117', chamber='house'), headers=credentials)\n",
    "print(response)"
   ]
  },
  {
   "cell_type": "markdown",
   "metadata": {},
   "source": [
    "We can also check print out the status code like this"
   ]
  },
  {
   "cell_type": "code",
   "execution_count": null,
   "metadata": {},
   "outputs": [],
   "source": [
    "response.status_code"
   ]
  },
  {
   "cell_type": "markdown",
   "metadata": {},
   "source": [
    "Response `200` is what we want! `requests` comes built in with a `json` decoder. Since the response code suggests that the request was sent successfully, we will save the response in a `json`, and explore the data structure in the next step.\n",
    "\n",
    "We save it in the variable, `members`"
   ]
  },
  {
   "cell_type": "code",
   "execution_count": null,
   "metadata": {},
   "outputs": [],
   "source": [
    "if response.status_code==200:\n",
    "    members = response.json()"
   ]
  },
  {
   "cell_type": "markdown",
   "metadata": {},
   "source": [
    "## 5. Explore data structures\n",
    "\n",
    "We can use a range of tactics to explore this data structure. Like most `json` files, it is rather nested. There may also be documentation that tells us about the structure of returned requests."
   ]
  },
  {
   "cell_type": "code",
   "execution_count": null,
   "metadata": {},
   "outputs": [],
   "source": [
    "members"
   ]
  },
  {
   "cell_type": "code",
   "execution_count": null,
   "metadata": {},
   "outputs": [],
   "source": [
    "print(len(members))\n",
    "print(type(members))\n",
    "print(members.keys())"
   ]
  },
  {
   "cell_type": "markdown",
   "metadata": {},
   "source": [
    "You can use `pprint` (\"pretty print\") for a more nicely formatted json object"
   ]
  },
  {
   "cell_type": "code",
   "execution_count": null,
   "metadata": {},
   "outputs": [],
   "source": [
    "pprint(members['results'][0])"
   ]
  },
  {
   "cell_type": "code",
   "execution_count": null,
   "metadata": {},
   "outputs": [],
   "source": [
    "members['results'][0].keys()"
   ]
  },
  {
   "cell_type": "code",
   "execution_count": null,
   "metadata": {},
   "outputs": [],
   "source": [
    "print(len(members['results']))\n",
    "print(len(members['results'][0].keys()))\n",
    "print(members['results'][0]['congress'])"
   ]
  },
  {
   "cell_type": "code",
   "execution_count": null,
   "metadata": {},
   "outputs": [],
   "source": [
    "type(members['results'][0]['members'])"
   ]
  },
  {
   "cell_type": "code",
   "execution_count": null,
   "metadata": {},
   "outputs": [],
   "source": [
    "len(members['results'][0]['members'])"
   ]
  },
  {
   "cell_type": "code",
   "execution_count": null,
   "metadata": {},
   "outputs": [],
   "source": [
    "pprint(members['results'][0]['members'])"
   ]
  },
  {
   "cell_type": "code",
   "execution_count": null,
   "metadata": {},
   "outputs": [],
   "source": [
    "pprint(members['results'][0]['members'][0])"
   ]
  },
  {
   "cell_type": "markdown",
   "metadata": {},
   "source": [
    "## 6. Save data"
   ]
  },
  {
   "cell_type": "code",
   "execution_count": null,
   "metadata": {},
   "outputs": [],
   "source": [
    "df = pd.DataFrame(members['results'][0]['members'])\n",
    "df.shape"
   ]
  },
  {
   "cell_type": "code",
   "execution_count": null,
   "metadata": {},
   "outputs": [],
   "source": [
    "df"
   ]
  },
  {
   "cell_type": "code",
   "execution_count": null,
   "metadata": {},
   "outputs": [],
   "source": [
    "df.to_csv(\"congress_house_116.csv\")"
   ]
  },
  {
   "cell_type": "markdown",
   "metadata": {},
   "source": [
    "## Health bills\n",
    "\n",
    "We can look at a different dataset - `bills` instead of `members`. See documentation [here](https://projects.propublica.org/api-docs/congress-api/bills/)\n",
    "\n",
    "\n",
    "Their syntax for a request to search for bills that include a particular keyword (query) is:\n",
    "\n",
    "`https://api.propublica.org/congress/v1/bills/search.json?query={query}`\n",
    "\n",
    "Their syntax for a request to search for bills in a particular subject is:\n",
    "\n",
    "`https://api.propublica.org/congress/v1/bills/subjects/{subject}.json`"
   ]
  },
  {
   "cell_type": "markdown",
   "metadata": {},
   "source": [
    "Let's call and see what this yields:"
   ]
  },
  {
   "cell_type": "code",
   "execution_count": null,
   "metadata": {},
   "outputs": [],
   "source": [
    "r = requests.get(bill_request_url.format(subject='health'),\n",
    "                 headers=credentials)\n",
    "bills_20 = r.json()"
   ]
  },
  {
   "cell_type": "code",
   "execution_count": null,
   "metadata": {},
   "outputs": [],
   "source": [
    "pprint(bills_20)"
   ]
  },
  {
   "cell_type": "markdown",
   "metadata": {},
   "source": [
    "That was only the first $20$ results. We need to use __pagination__ to go through successive pages.\n",
    "\n",
    "Per the API documentation, we will use the `offset` term to \"offset\" the _first 20_ results, to get the _next 20_...\n",
    "\n",
    "`https://api.propublica.org/congress/v1/bills/subjects/{subject}.json?offset={offset}`"
   ]
  },
  {
   "cell_type": "code",
   "execution_count": null,
   "metadata": {},
   "outputs": [],
   "source": [
    "bill_request_url = 'https://api.propublica.org/congress/v1/bills/subjects/{subject}.json?offset={offset}'"
   ]
  },
  {
   "cell_type": "code",
   "execution_count": null,
   "metadata": {},
   "outputs": [],
   "source": [
    "r = requests.get(bill_request_url.format(subject='health', offset='20'), headers=credentials)\n",
    "bills_40 = r.json()"
   ]
  },
  {
   "cell_type": "code",
   "execution_count": null,
   "metadata": {},
   "outputs": [],
   "source": [
    "pprint(bills_40)"
   ]
  },
  {
   "cell_type": "markdown",
   "metadata": {},
   "source": [
    "Here we'll use a `for` loop. The `range` function means that we are iterating between $0$ and $100$ in increments of $20$."
   ]
  },
  {
   "cell_type": "code",
   "execution_count": null,
   "metadata": {},
   "outputs": [],
   "source": [
    "for i, offset in enumerate(range(0, 100, 20)):\n",
    "    print(i, offset)"
   ]
  },
  {
   "cell_type": "markdown",
   "metadata": {},
   "source": [
    "We'll save everything in a dictionary"
   ]
  },
  {
   "cell_type": "code",
   "execution_count": null,
   "metadata": {},
   "outputs": [],
   "source": [
    "bills_100 = dict()"
   ]
  },
  {
   "cell_type": "markdown",
   "metadata": {},
   "source": [
    "Go through this for loop and make a request, increasing the offset each time:"
   ]
  },
  {
   "cell_type": "code",
   "execution_count": null,
   "metadata": {},
   "outputs": [],
   "source": [
    "for i, offset in enumerate(range(0, 100, 20)):\n",
    "    response = requests.get(bill_request_url.format(subject='health',\n",
    "                                                    offset=str(offset)), headers=credentials)\n",
    "    if response.status_code==200:  # it would be a good idea to pad this with some exceptions!\n",
    "        bills = response.json()\n",
    "        bills_100[i] = bills\n",
    "        \n",
    "    sleep(1)  # this makes it wait 1 second after each request!"
   ]
  },
  {
   "cell_type": "code",
   "execution_count": null,
   "metadata": {},
   "outputs": [],
   "source": [
    "pd.DataFrame(bills_100)"
   ]
  },
  {
   "cell_type": "code",
   "execution_count": null,
   "metadata": {},
   "outputs": [],
   "source": [
    "with open(\"bills_100.json\", \"w\") as outfile:\n",
    "    json.dump(bills_100, outfile, indent=4)"
   ]
  },
  {
   "cell_type": "markdown",
   "metadata": {},
   "source": [
    "To see how to clean up this `json`, refer to the materials from the Intro to Python workshop!"
   ]
  }
 ],
 "metadata": {
  "kernelspec": {
   "display_name": "Python 3",
   "language": "python",
   "name": "python3"
  },
  "language_info": {
   "codemirror_mode": {
    "name": "ipython",
    "version": 3
   },
   "file_extension": ".py",
   "mimetype": "text/x-python",
   "name": "python",
   "nbconvert_exporter": "python",
   "pygments_lexer": "ipython3",
   "version": "3.7.7"
  }
 },
 "nbformat": 4,
 "nbformat_minor": 2
}
